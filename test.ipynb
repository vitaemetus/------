{
 "cells": [
  {
   "cell_type": "code",
   "execution_count": 43,
   "metadata": {},
   "outputs": [
    {
     "data": {
      "image/png": "[encoded data removed]",
      "text/plain": [
       "<Figure size 640x480 with 1 Axes>"
      ]
     },
     "metadata": {},
     "output_type": "display_data"
    }
   ],
   "source": [
    "import numpy as np\n",
    "import matplotlib.pyplot as plt\n",
    "\n",
    "read = 0\n",
    "v = np.array([0,0,0])\n",
    "v_arr = []\n",
    "\n",
    "with open(\"dumpfile.txt\", \"r\") as d:\n",
    "    for line in d:\n",
    "        if read == 11:\n",
    "            s = line.split()\n",
    "            v = s[5:8]\n",
    "            v_arr.append(np.linalg.norm(v))\n",
    "            continue\n",
    "        if line == \"ITEM: ATOMS id type x y z vx vy vz\\n\":\n",
    "            read += 1\n",
    "\n",
    "counts, bins = np.histogram(v_arr, bins = 200, density = False)\n",
    "# plt.hist(np.array(v_arr), bins=200)\n",
    "# plt.scatter(bins, counts)\n",
    "fig = plt.figure()\n",
    "hist = fig.add_subplot(1,1,1)\n",
    "maxwell = fig.add_subplot(1,1,1)\n",
    "plt.stairs(counts, bins)\n",
    "plt.show()"
   ]
  },
  {
   "cell_type": "code",
   "execution_count": 45,
   "metadata": {},
   "outputs": [
    {
     "name": "stdout",
     "output_type": "stream",
     "text": [
      "[47.39708491  0.3215467 ]\n"
     ]
    },
    {
     "name": "stderr",
     "output_type": "stream",
     "text": [
      "C:\\Users\\ddaan\\AppData\\Local\\Temp\\ipykernel_25496\\2855742943.py:4: RuntimeWarning: overflow encountered in exp\n",
      "  return B * (x ** 2) * np.exp(-b*x**2)\n"
     ]
    }
   ],
   "source": [
    "from scipy.optimize import curve_fit\n",
    "\n",
    "def sigmaFunction(x, B, b):\n",
    "        return B * (x ** 2) * np.exp(-b*x**2)\n",
    "\n",
    "xdata = []\n",
    "for i in range(len(bins) - 1):\n",
    "        xdata.append(bins[i])\n",
    "\n",
    "ydata = counts\n",
    "popt = curve_fit(sigmaFunction, xdata, ydata)[0]\n",
    "print(popt)"
   ]
  }
 ],
 "metadata": {
  "kernelspec": {
   "display_name": "Python 3",
   "language": "python",
   "name": "python3"
  },
  "language_info": {
   "codemirror_mode": {
    "name": "ipython",
    "version": 3
   },
   "file_extension": ".py",
   "mimetype": "text/x-python",
   "name": "python",
   "nbconvert_exporter": "python",
   "pygments_lexer": "ipython3",
   "version": "3.10.8"
  },
  "orig_nbformat": 4,
  "vscode": {
   "interpreter": {
    "hash": "4a2cc405fef46d5e11beaba535f666ab8cbb5c24658280bd185d33db4203b181"
   }
  }
 },
 "nbformat": 4,
 "nbformat_minor": 2
}
